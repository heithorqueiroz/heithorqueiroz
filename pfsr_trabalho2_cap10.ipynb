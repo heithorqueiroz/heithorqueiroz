{
  "nbformat": 4,
  "nbformat_minor": 0,
  "metadata": {
    "colab": {
      "provenance": [],
      "authorship_tag": "ABX9TyPH5fVLnkUmyX82kXztCOuu",
      "include_colab_link": true
    },
    "kernelspec": {
      "name": "python3",
      "display_name": "Python 3"
    },
    "language_info": {
      "name": "python"
    }
  },
  "cells": [
    {
      "cell_type": "markdown",
      "metadata": {
        "id": "view-in-github",
        "colab_type": "text"
      },
      "source": [
        "<a href=\"https://colab.research.google.com/github/heithorqueiroz/heithorqueiroz/blob/main/pfsr_trabalho2_cap10.ipynb\" target=\"_parent\"><img src=\"https://colab.research.google.com/assets/colab-badge.svg\" alt=\"Open In Colab\"/></a>"
      ]
    },
    {
      "cell_type": "markdown",
      "source": [],
      "metadata": {
        "id": "E9tLQy11S_49"
      }
    },
    {
      "cell_type": "code",
      "source": [
        "import math as m\n",
        "import numpy as np"
      ],
      "metadata": {
        "id": "aGMEoxFYTBvN"
      },
      "execution_count": null,
      "outputs": []
    },
    {
      "cell_type": "code",
      "source": [
        "d = 1.429\n",
        "d\n",
        "\n",
        "qtdmols = d/32\n",
        "qtdmols\n",
        "\n",
        "#quantidade de moleculas em gramas/litro\n",
        "num = qtdmols*6.02*10**23 \n",
        "num\n",
        "\n",
        "#converter de gramas/m3\n",
        "gm3 = num*1000\n",
        "gm3\n",
        "\n",
        "#coef absor\n",
        "coef = gm3*(3.71*10**-30)\n",
        "coef\n"
      ],
      "metadata": {
        "colab": {
          "base_uri": "https://localhost:8080/"
        },
        "id": "wkln9QD0YoRd",
        "outputId": "dbf1fae3-bf1d-4f8f-9315-6b8190ec45e1"
      },
      "execution_count": null,
      "outputs": [
        {
          "output_type": "execute_result",
          "data": {
            "text/plain": [
              "9.973616187500001e-05"
            ]
          },
          "metadata": {},
          "execution_count": 110
        }
      ]
    },
    {
      "cell_type": "markdown",
      "source": [
        "### Função gases da atmosfera"
      ],
      "metadata": {
        "id": "mPSjeCwRxm2f"
      }
    },
    {
      "cell_type": "code",
      "source": [
        "phi0 = 200\n",
        "band = [\"b\",\"g\",\"r\",\"ir\"]\n",
        "a_oxi = [1.6*10**-7,1.6*10**-7,2.225*10**-6,1.3*10**-5]\n",
        "a_nit = [0.00072,0.00012,0.00006,0.00000000051]\n",
        "x = list(range(0,80000))\n",
        "\n",
        "0.0000000954"
      ],
      "metadata": {
        "id": "m7tCCm25wbSD"
      },
      "execution_count": null,
      "outputs": []
    },
    {
      "cell_type": "code",
      "source": [
        "import itertools\n",
        "def phi_function(lista): #função que receberá lista\n",
        "  lista= []\n",
        "  for i,j in itertools.product(range(len(band)),range(len(x))):\n",
        "      phi = phi0*m.exp(-a_oxi[i]*x[j]/8)\n",
        "      lista.append(phi)\n",
        "  return lista \n",
        "\n",
        "\n",
        "phi = phi_function(x) # o input da função é uma lista o x da função"
      ],
      "metadata": {
        "id": "gW-vVBeluOCJ"
      },
      "execution_count": null,
      "outputs": []
    },
    {
      "cell_type": "code",
      "source": [
        "len(phi)"
      ],
      "metadata": {
        "id": "QanwvrsKFpNX"
      },
      "execution_count": null,
      "outputs": []
    },
    {
      "cell_type": "code",
      "source": [
        "# Phi calculado e separado por banda\n",
        "blue = phi[0:80000]\n",
        "green = phi[80000:160000]\n",
        "red = phi[160000:240000]\n",
        "ir = phi[240000:320000]"
      ],
      "metadata": {
        "id": "zhhbJA0n2oty"
      },
      "execution_count": null,
      "outputs": []
    },
    {
      "cell_type": "code",
      "source": [
        "import matplotlib.pyplot as plt\n",
        "\n",
        "# Plot\n",
        "plt.figure(figsize=(10,5))\n",
        "plt.rcParams['font.size'] = '18'\n",
        "\n",
        "#plt.subplot(221)\n",
        "#plt.plot(x,blue,c='b', label='Blue')\n",
        "#plt.plot(x,green, c='g',  label='Green')\n",
        "plt.plot(x,red, c='r',  label='Red')\n",
        "plt.plot(x,ir, c='m',  label='Infrared')\n",
        "#plt.ylim([0, 4000])\n",
        "#plt.xlim([1, 24])\n",
        "plt.xlabel('Distância percorrida pelo feixe de radiação (km)')\n",
        "plt.ylabel('Porcentagem de fluxo radiante (%)')\n",
        "plt.title('Atenuação da radiação pelos gases atmosféricos')\n",
        "plt.legend(loc= 4, prop={'size': 12})\n",
        "\n",
        "x_label = ['0','10','20','30','40','50','60','70','80']\n",
        "plt.xticks(np.linspace(0,80000,9), x_label)\n",
        "y_label = ['0','10','20','30','40','50','60','70','80','90','100']\n",
        "plt.yticks(np.linspace(0,max(phi),11), y_label)"
      ],
      "metadata": {
        "id": "IKtYmaaI13Am"
      },
      "execution_count": null,
      "outputs": []
    },
    {
      "cell_type": "code",
      "source": [
        "np.linspace(0,80000,9)"
      ],
      "metadata": {
        "id": "J6sjXQafUYGM"
      },
      "execution_count": null,
      "outputs": []
    },
    {
      "cell_type": "markdown",
      "source": [
        "### Função água pura"
      ],
      "metadata": {
        "id": "oTkq2fd0jOMh"
      }
    },
    {
      "cell_type": "code",
      "source": [
        "phi0 = 200\n",
        "band = [\"b\",\"g\",\"r\",\"ir\"]\n",
        "a_agu = [0.00922, 0.0565, 0.34, 6.188]\n",
        "x = list(range(0,500))"
      ],
      "metadata": {
        "id": "iCEqJKHbjxOQ"
      },
      "execution_count": null,
      "outputs": []
    },
    {
      "cell_type": "code",
      "source": [
        "import itertools\n",
        "def phi_function(lista): #função que receberá lista\n",
        "  lista= []\n",
        "  for i,j in itertools.product(range(len(band)),range(len(x))):\n",
        "      phi = phi0*m.exp(-a_agu[i]*x[j])\n",
        "      lista.append(phi)\n",
        "  return lista \n",
        "\n",
        "\n",
        "phi = phi_function(x) # o input da função é uma lista o x da função\n",
        "print(phi)"
      ],
      "metadata": {
        "id": "FRVtnmrwjJoG"
      },
      "execution_count": null,
      "outputs": []
    },
    {
      "cell_type": "code",
      "source": [
        "len(phi)"
      ],
      "metadata": {
        "id": "18ibrb3XjJoH"
      },
      "execution_count": null,
      "outputs": []
    },
    {
      "cell_type": "code",
      "source": [
        "# Phi calculado e separado por banda\n",
        "blue = phi[0:500]\n",
        "green = phi[500:1000]\n",
        "red = phi[1000:1500]\n",
        "ir = phi[1500:2000]"
      ],
      "metadata": {
        "id": "JoDJJ_yrjJoI"
      },
      "execution_count": null,
      "outputs": []
    },
    {
      "cell_type": "code",
      "source": [
        "import matplotlib.pyplot as plt\n",
        "\n",
        "# Plot\n",
        "plt.figure(figsize=(10,5))\n",
        "plt.rcParams['font.size'] = '18'\n",
        "\n",
        "#plt.subplot(221)\n",
        "plt.plot(x,blue,c='b', label='Blue')\n",
        "plt.plot(x,green, c='g',  label='Green')\n",
        "plt.plot(x,red, c='r',  label='Red')\n",
        "plt.plot(x,ir, c='m',  label='Infrared')\n",
        "#plt.ylim([0, 4000])\n",
        "#plt.xlim([1, 24])\n",
        "plt.xlabel('Distância percorrida pelo feixe de radiação (m)')\n",
        "plt.ylabel('Porcentagem de fluxo radiante (%)')\n",
        "plt.title('Atenuação da radiação pela água pura')\n",
        "plt.legend(loc= 1, prop={'size': 12})\n",
        "\n",
        "y_label = ['0','10','20','30','40','50','60','70','80','90','100']\n",
        "plt.yticks(np.linspace(0,max(phi),11), y_label)"
      ],
      "metadata": {
        "id": "p3JGrwSejJoJ"
      },
      "execution_count": null,
      "outputs": []
    }
  ]
}