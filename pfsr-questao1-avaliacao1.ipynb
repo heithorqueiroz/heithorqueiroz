{
  "nbformat": 4,
  "nbformat_minor": 0,
  "metadata": {
    "colab": {
      "provenance": [],
      "authorship_tag": "ABX9TyNXvyggFD9vVnWtfHidngT/",
      "include_colab_link": true
    },
    "kernelspec": {
      "name": "python3",
      "display_name": "Python 3"
    },
    "language_info": {
      "name": "python"
    }
  },
  "cells": [
    {
      "cell_type": "markdown",
      "metadata": {
        "id": "view-in-github",
        "colab_type": "text"
      },
      "source": [
        "<a href=\"https://colab.research.google.com/github/heithorqueiroz/heithorqueiroz/blob/main/pfsr-questao1-avaliacao1.ipynb\" target=\"_parent\"><img src=\"https://colab.research.google.com/assets/colab-badge.svg\" alt=\"Open In Colab\"/></a>"
      ]
    },
    {
      "cell_type": "markdown",
      "source": [
        "Dicionário de variáveis:\n",
        "\n",
        "*   E0: fator distância terra-sol\n",
        "\n",
        "*   gamarrad: ângulo dia em radianos\n",
        "\n",
        "*   delta: declinação solar\n",
        "\n",
        "*   eqtime = equação do tempo em minutos\n",
        "\n",
        "*   tcorr = total time translated (solar time, in hours)\n",
        "\n",
        "*   omega = ângulo horário em radianos (hour angle)\n",
        "\n",
        "*   I0 = irradiância TOA\n"
      ],
      "metadata": {
        "id": "O8eQLGvGGZRU"
      }
    },
    {
      "cell_type": "code",
      "source": [
        "import math as m"
      ],
      "metadata": {
        "id": "5OnhosuEB4y_"
      },
      "execution_count": null,
      "outputs": []
    },
    {
      "cell_type": "markdown",
      "source": [
        "Input dados comuns às funções"
      ],
      "metadata": {
        "id": "inucpjsvg1kj"
      }
    },
    {
      "cell_type": "code",
      "source": [
        "# Constante solar\n",
        "Es = int(1367*3.6) # constante solar"
      ],
      "metadata": {
        "id": "tzjGSYy1hJxz"
      },
      "execution_count": null,
      "outputs": []
    },
    {
      "cell_type": "code",
      "source": [
        "# Horário\n",
        "hora = list(range(1,25))"
      ],
      "metadata": {
        "id": "xD0xWLT2cs36"
      },
      "execution_count": null,
      "outputs": []
    },
    {
      "cell_type": "code",
      "source": [
        "# locais (PB, BA, SP, RJ e DF)\n",
        "lat = [-7.22,-12.98,-23.56,-22.91,-15.79]\n",
        "lon = [-33.89,-38.5,-46.64,-43.17,-47.89]"
      ],
      "metadata": {
        "id": "OTqTmgzfyw-d"
      },
      "execution_count": null,
      "outputs": []
    },
    {
      "cell_type": "markdown",
      "source": [
        "###GRAFICO TIPO 1\n",
        "4 Gráficos diários com passo de tempo horário sendo um para cada período (Verão, Outono, Inverno e Primavera). Escolha um dia em cada uma das estações.\n"
      ],
      "metadata": {
        "id": "wD7n5JKBcxri"
      }
    },
    {
      "cell_type": "code",
      "source": [
        "# dia corrido do ano para cada estação: Verão, Outono, Inverno, Primavera\n",
        "dn = [32,121,213,365]"
      ],
      "metadata": {
        "id": "omzQtL1d4UfP"
      },
      "execution_count": null,
      "outputs": []
    },
    {
      "cell_type": "markdown",
      "source": [
        "Função gráfico tipo 1"
      ],
      "metadata": {
        "id": "WKv5MI8efBfX"
      }
    },
    {
      "cell_type": "code",
      "source": [
        "import itertools\n",
        "def I0_hora(lista): #função que receberá lista de horas\n",
        "  lista= []\n",
        "  for d,i,j in itertools.product(range(len(dn)),range(len(lat)),range(len(hora))):\n",
        "        \n",
        "        \n",
        "        # Cálculo do ângulo dia\n",
        "        gamarad=(360*(dn[d]-1)/365)*m.pi/180 #ângulo dia em radianos\n",
        "        \n",
        "        # Cálculo fator E0 (não usado no exemplo em Lorenzzeti)\n",
        "        E0 = 1.000110+(0.034221*m.cos(gamarad))+0.001280*m.sin(gamarad)+0.000719*m.cos(2*gamarad)+0.000077*m.sin(2*gamarad)\n",
        "\n",
        "        # Calculo da declinação solar (usando ângulo dia) em radianos\n",
        "        delta = (0.006918 - 0.399912 * m.cos(gamarad) + 0.070257 * m.sin(gamarad) - 0.006758 * m.cos(2 * gamarad) + 0.000907 * m.sin(2 * gamarad) - 0.002697 * m.cos(3 * gamarad) + 0.00148 * m.sin(3 * gamarad))\n",
        "        \n",
        "        # Equação do tempo (usando ângulo dia)\n",
        "        eqtime = (0.000075 + 0.001868 * m.cos(gamarad) - 0.032077 * m.sin(gamarad) - 0.014615 * m.cos(2 * gamarad) - 0.040849 * m.sin(2 * gamarad)) * ((180 * 4)/(m.pi)) #180*4/pi é usado para conversão para minutos\n",
        "\n",
        "        # Total time translated (solar time, in hours)\n",
        "        tcorr = (hora[j] + lon[i]/15. + eqtime/60.)\n",
        "        \n",
        "        # Cálculo do ângulo horário solar (omega) - modelo algoritmo git\n",
        "        omega = ((12. - tcorr) * 15.)*m.pi/180\n",
        "        I0_hora = Es * E0 * (m.sin(delta)*m.sin(m.radians(lat[i]))+m.cos(delta)*m.cos(m.radians(lat[i]))*m.cos(omega))\n",
        "        lista.append(I0_hora)\n",
        "  return lista \n",
        "\n",
        "\n",
        "I0_hora = I0_hora(hora) # o input da função é a lista (hora)\n",
        "print(I0_hora)\n"
      ],
      "metadata": {
        "id": "4XwZKo4M9Hmt"
      },
      "execution_count": null,
      "outputs": []
    },
    {
      "cell_type": "markdown",
      "source": [
        "###GRAFICO TIPO 2\n",
        "4 Gráficos mensais com passo de tempo diário sendo um em cada período (Verão, Outono, Inverno e Primavera). Escolha um mês em cada uma das estações.\n"
      ],
      "metadata": {
        "id": "tuUVogsgT-VT"
      }
    },
    {
      "cell_type": "markdown",
      "source": [
        "Função gráfico tipo 2"
      ],
      "metadata": {
        "id": "R1irbcbKT-Vc"
      }
    },
    {
      "cell_type": "code",
      "source": [
        "# dia juliano de cada estação do ano (Verão, Outono, Inverno, Primavera)\n",
        "dn = list(range(1,366))"
      ],
      "metadata": {
        "id": "gEdiRES5T-Vc"
      },
      "execution_count": null,
      "outputs": []
    },
    {
      "cell_type": "code",
      "source": [
        "import itertools\n",
        "def I0_hora(lista): #função que receberá lista de horas\n",
        "  lista= []\n",
        "  for i,d,j in itertools.product(range(len(lat)),range(len(dn)),range(len(hora))):\n",
        "        \n",
        "        \n",
        "        # Cálculo do ângulo dia\n",
        "        gamarad=(360*(dn[d]-1)/365)*m.pi/180 #ângulo dia em radianos\n",
        "        \n",
        "        # Cálculo fator E0 (não usado no exemplo em Lorenzzeti)\n",
        "        E0 = 1.000110+(0.034221*m.cos(gamarad))+0.001280*m.sin(gamarad)+0.000719*m.cos(2*gamarad)+0.000077*m.sin(2*gamarad)\n",
        "\n",
        "        # Calculo da declinação solar (usando ângulo dia) em radianos\n",
        "        delta = (0.006918 - 0.399912 * m.cos(gamarad) + 0.070257 * m.sin(gamarad) - 0.006758 * m.cos(2 * gamarad) + 0.000907 * m.sin(2 * gamarad) - 0.002697 * m.cos(3 * gamarad) + 0.00148 * m.sin(3 * gamarad))\n",
        "\n",
        "        # Equação do tempo (usando ângulo dia)\n",
        "        eqtime = (0.000075 + 0.001868 * m.cos(gamarad) - 0.032077 * m.sin(gamarad) - 0.014615 * m.cos(2 * gamarad) - 0.040849 * m.sin(2 * gamarad)) * ((180 * 4)/(m.pi)) #180*4/pi é usado para conversão para minutos\n",
        "\n",
        "        # Total time translated (solar time, in hours)\n",
        "        tcorr = (hora[j] + lon[i]/15. + eqtime/60.)\n",
        "        \n",
        "        # Cálculo do ângulo horário solar (omega) - modelo algoritmo git\n",
        "        omega = ((12. - tcorr) * 15.)*m.pi/180\n",
        "        I0_hora = Es * E0 * (m.sin(delta)*m.sin(m.radians(lat[i]))+m.cos(delta)*m.cos(m.radians(lat[i]))*m.cos(omega))\n",
        "        lista.append(I0_hora)\n",
        "  return lista \n",
        "\n",
        "\n",
        "I0_hora = I0_hora(hora) # o input da função é a lista (hora)\n",
        "print(I0_hora)\n"
      ],
      "metadata": {
        "id": "7R5Sg6l7T-Vc"
      },
      "execution_count": null,
      "outputs": []
    },
    {
      "cell_type": "markdown",
      "source": [
        "###GRAFICO TIPO 3\n",
        "- 1 Gráfico anual com passo de tempo mensal Neste caso, utilize 3 formas de cálculo da\n",
        "declinação solar para cada cidade (Dica, consulte o material indicado como bibliografia\n",
        "complementar) e indique a diferença. \n"
      ],
      "metadata": {
        "id": "CzAHSN30dBv5"
      }
    },
    {
      "cell_type": "markdown",
      "source": [
        "Input dados"
      ],
      "metadata": {
        "id": "ktUejpoXdaTe"
      }
    },
    {
      "cell_type": "markdown",
      "source": [
        "#### Método de cálculo da declinação solar de Spencer"
      ],
      "metadata": {
        "id": "Elmi6dJryMlA"
      }
    },
    {
      "cell_type": "code",
      "source": [
        "import itertools\n",
        "def I0_hora(lista): #função que receberá lista de horas\n",
        "  lista= []\n",
        "  for i,d in itertools.product(range(len(lat)),range(len(dn))):\n",
        "        \n",
        "        \n",
        "        # Cálculo do ângulo dia\n",
        "        gamarad=(360*(dn[d]-1)/365)*m.pi/180 #ângulo dia em radianos\n",
        "        \n",
        "        # Cálculo fator E0 (não usado no exemplo em Lorenzzeti)\n",
        "        E0 = 1.000110+(0.034221*m.cos(gamarad))+0.001280*m.sin(gamarad)+0.000719*m.cos(2*gamarad)+0.000077*m.sin(2*gamarad)\n",
        "\n",
        "        # Calculo da declinação solar (usando ângulo dia) em radianos\n",
        "        delta = (0.006918 - 0.399912 * m.cos(gamarad) + 0.070257 * m.sin(gamarad) - 0.006758 * m.cos(2 * gamarad) + 0.000907 * m.sin(2 * gamarad) - 0.002697 * m.cos(3 * gamarad) + 0.00148 * m.sin(3 * gamarad))\n",
        "        \n",
        "        # Equação do tempo (usando ângulo dia)\n",
        "        eqtime = (0.000075 + 0.001868 * m.cos(gamarad) - 0.032077 * m.sin(gamarad) - 0.014615 * m.cos(2 * gamarad) - 0.040849 * m.sin(2 * gamarad)) * ((180 * 4)/(m.pi)) #180*4/pi é usado para conversão para minutos\n",
        "\n",
        "        # Total time translated (solar time, in hours)\n",
        "        tcorr = (hora + lon[i]/15. + eqtime/60.)\n",
        "        \n",
        "        # Cálculo do ângulo horário solar (omega) - modelo algoritmo git\n",
        "        omega = ((12. - tcorr) * 15.)*m.pi/180\n",
        "        I0_hora = Es * E0 * (m.sin(delta)*m.sin(m.radians(lat[i]))+m.cos(delta)*m.cos(m.radians(lat[i]))*m.cos(omega))\n",
        "        lista.append(I0_hora)\n",
        "  return lista \n",
        "\n",
        "\n",
        "I0_hora_spencer = I0_hora(hora) # o input da função é a lista (hora)\n",
        "print(I0_hora_spencer)\n"
      ],
      "metadata": {
        "id": "jLFmiDNLdaTj"
      },
      "execution_count": null,
      "outputs": []
    },
    {
      "cell_type": "markdown",
      "source": [
        "#### Método de cálculo da declinação solar de Perrin de Brichambaut"
      ],
      "metadata": {
        "id": "7W2QQq5vyWmN"
      }
    },
    {
      "cell_type": "code",
      "source": [
        "# Esse algoritmo fornece uma lista na seguinte ordem: \n",
        "# primeiros valores: irradiância as 15 horas de cada dia para a primeira localização da lista (lat) seguindo a ordem crescente dos dias das data definida na lista (dn). ex: ano 1 para localização 1  (365 primeiros valores). \n",
        "\n",
        "import itertools\n",
        "def I0_hora(lista): #função que receberá lista de horas\n",
        "  lista= []\n",
        "  for i,d in itertools.product(range(len(lat)),range(len(dn))):\n",
        "        \n",
        "        \n",
        "        # Cálculo do ângulo dia\n",
        "        gamarad=(360*(dn[d]-1)/365)*m.pi/180 #ângulo dia em radianos\n",
        "        \n",
        "        # Cálculo fator E0 (não usado no exemplo em Lorenzzeti)\n",
        "        E0 = 1.000110+(0.034221*m.cos(gamarad))+0.001280*m.sin(gamarad)+0.000719*m.cos(2*gamarad)+0.000077*m.sin(2*gamarad)\n",
        "\n",
        "        # Calculo da declinação solar (usando ângulo dia) em radianos\n",
        "        delta = m.sin(0.4*m.sin((360/365*(dn-82))*m.pi/180)) \n",
        "                \n",
        "        # Equação do tempo (usando ângulo dia)\n",
        "        eqtime = (0.000075 + 0.001868 * m.cos(gamarad) - 0.032077 * m.sin(gamarad) - 0.014615 * m.cos(2 * gamarad) - 0.040849 * m.sin(2 * gamarad)) * ((180 * 4)/(m.pi)) #180*4/pi é usado para conversão para minutos\n",
        "\n",
        "        # Total time translated (solar time, in hours)\n",
        "        tcorr = (hora + lon[i]/15. + eqtime/60.)\n",
        "        \n",
        "        # Cálculo do ângulo horário solar (omega) - modelo algoritmo git\n",
        "        omega = ((12. - tcorr) * 15.)*m.pi/180\n",
        "        I0_hora = Es * E0 * (m.sin(delta)*m.sin(m.radians(lat[i]))+m.cos(delta)*m.cos(m.radians(lat[i]))*m.cos(omega))\n",
        "        lista.append(I0_hora)\n",
        "  return lista \n",
        "\n",
        "\n",
        "I0_hora_perrin = I0_hora(hora) # o input da função é a lista (hora)\n",
        "print(I0_hora_perrin)\n"
      ],
      "metadata": {
        "id": "xUVhLBc_yWmO"
      },
      "execution_count": null,
      "outputs": []
    },
    {
      "cell_type": "markdown",
      "source": [
        "#### Método de cálculo da declinação solar de Cooper"
      ],
      "metadata": {
        "id": "2JmpGIsMyj5S"
      }
    },
    {
      "cell_type": "code",
      "source": [
        "# Esse algoritmo fornece uma lista na seguinte ordem: \n",
        "# primeiros valores: irradiância as 15 horas de cada dia para a primeira localização da lista (lat) seguindo a ordem crescente dos dias das data definida na lista (dn). ex: ano 1 para localização 1  (365 primeiros valores). \n",
        "\n",
        "import itertools\n",
        "def I0_hora(lista): #função que receberá lista de horas\n",
        "  lista= []\n",
        "  for i,d in itertools.product(range(len(lat)),range(len(dn))):\n",
        "        \n",
        "        \n",
        "        # Cálculo do ângulo dia\n",
        "        gamarad=(360*(dn[d]-1)/365)*m.pi/180 #ângulo dia em radianos\n",
        "        \n",
        "        # Cálculo fator E0 (não usado no exemplo em Lorenzzeti)\n",
        "        E0 = 1.000110+(0.034221*m.cos(gamarad))+0.001280*m.sin(gamarad)+0.000719*m.cos(2*gamarad)+0.000077*m.sin(2*gamarad)\n",
        "\n",
        "        # Calculo da declinação solar (usando ângulo dia) em radianos\n",
        "        delta = 23.45*m.sin((360/365*(dn+284))*m.pi/180)\n",
        "        \n",
        "        # Equação do tempo (usando ângulo dia)\n",
        "        eqtime = (0.000075 + 0.001868 * m.cos(gamarad) - 0.032077 * m.sin(gamarad) - 0.014615 * m.cos(2 * gamarad) - 0.040849 * m.sin(2 * gamarad)) * ((180 * 4)/(m.pi)) #180*4/pi é usado para conversão para minutos\n",
        "\n",
        "        # Total time translated (solar time, in hours)\n",
        "        tcorr = (hora + lon[i]/15. + eqtime/60.)\n",
        "        \n",
        "        # Cálculo do ângulo horário solar (omega) - modelo algoritmo git\n",
        "        omega = ((12. - tcorr) * 15.)*m.pi/180\n",
        "        I0_hora = Es * E0 * (m.sin(delta)*m.sin(m.radians(lat[i]))+m.cos(delta)*m.cos(m.radians(lat[i]))*m.cos(omega))\n",
        "        lista.append(I0_hora)\n",
        "  return lista \n",
        "\n",
        "\n",
        "I0_hora_cooper = I0_hora(hora) # o input da função é a lista (hora)\n",
        "print(I0_hora_cooper)\n"
      ],
      "metadata": {
        "id": "3SmIkUhKyj5T"
      },
      "execution_count": null,
      "outputs": []
    }
  ]
}